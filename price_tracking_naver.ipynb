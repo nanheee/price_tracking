{
 "cells": [
  {
   "cell_type": "markdown",
   "metadata": {},
   "source": [
    "### 네이버 상품페이지 가격정보(판매가, 할인가, 쿠폰적용가) 크롤링"
   ]
  },
  {
   "cell_type": "code",
   "execution_count": 70,
   "metadata": {},
   "outputs": [],
   "source": [
    "#input url\n",
    "url = '(스마트스토어 주소)/products/1234567890','(스마트스토어 주소)/products/1234567891'"
   ]
  },
  {
   "cell_type": "code",
   "execution_count": 72,
   "metadata": {},
   "outputs": [],
   "source": [
    "from selenium import webdriver\n",
    "from bs4 import BeautifulSoup\n",
    "import numpy as np \n",
    "import pandas as pd\n",
    "import time\n",
    "import random\n",
    "\n",
    "product = []\n",
    "product_no = []\n",
    "product_name = []\n",
    "price_original = []\n",
    "price_discount = []\n",
    "price_final =  []\n",
    "created_date = []\n",
    "\n",
    "def crawling():\n",
    "    html = driver.page_source\n",
    "    soup = BeautifulSoup(driver.page_source, 'html.parser')\n",
    "    time.sleep(1)\n",
    "    product_info = soup.find('tbody').find_all('td',{'ABROiEshTD'})\n",
    "    product_no.append(product_info[0].get_text())\n",
    "    product.append(product_info[4].get_text())\n",
    "    product_name.append(soup.find('div',{'class':'_1eddO7u4UC'}).find('h3',{'_22kNQuEXmb _copyable'}).get_text())\n",
    "    price = soup.find('div',{'class':'_3my-5FC8OB'}).find_all('span',{'class':'_1LY7DqCnwR'})\n",
    "    price_original.append(price[0].get_text())\n",
    "    price_discount.append(price[1].get_text())\n",
    "    price_final.append(soup.find('div',{'class':'_1UNQIwX1sN'}).find('span',{'_1SXfO9k819'}).get_text())\n",
    "    created_date.append(time.strftime(\"%Y-%m-%d\"))"
   ]
  },
  {
   "cell_type": "code",
   "execution_count": 82,
   "metadata": {},
   "outputs": [
    {
     "data": {
      "text/html": [
       "<div>\n",
       "<style scoped>\n",
       "    .dataframe tbody tr th:only-of-type {\n",
       "        vertical-align: middle;\n",
       "    }\n",
       "\n",
       "    .dataframe tbody tr th {\n",
       "        vertical-align: top;\n",
       "    }\n",
       "\n",
       "    .dataframe thead th {\n",
       "        text-align: right;\n",
       "    }\n",
       "</style>\n",
       "<table border=\"1\" class=\"dataframe\">\n",
       "  <thead>\n",
       "    <tr style=\"text-align: right;\">\n",
       "      <th></th>\n",
       "      <th>product_no</th>\n",
       "      <th>product</th>\n",
       "      <th>product_name</th>\n",
       "      <th>price_original</th>\n",
       "      <th>price_discount</th>\n",
       "      <th>price_final</th>\n",
       "      <th>created_date</th>\n",
       "    </tr>\n",
       "  </thead>\n",
       "  <tbody>\n",
       "    <tr>\n",
       "      <th>0</th>\n",
       "      <td>1234567890</td>\n",
       "      <td>S0000/BK</td>\n",
       "      <td>상품명 1</td>\n",
       "      <td>431,000</td>\n",
       "      <td>367,000</td>\n",
       "      <td>293,600</td>\n",
       "      <td>2023-01-04</td>\n",
       "    </tr>\n",
       "    <tr>\n",
       "      <th>1</th>\n",
       "      <td>1234567891</td>\n",
       "      <td>S0000/WT</td>\n",
       "      <td>상품명 2</td>\n",
       "      <td>485,000</td>\n",
       "      <td>399,000</td>\n",
       "      <td>339,150</td>\n",
       "      <td>2023-01-04</td>\n",
       "    </tr>\n",
       "  </tbody>\n",
       "</table>\n",
       "</div>"
      ],
      "text/plain": [
       "   product_no   product product_name price_original price_discount  \\\n",
       "0  1234567890  S0000/BK        상품명 1        431,000        367,000   \n",
       "1  1234567891  S0000/WT        상품명 2        485,000        399,000   \n",
       "\n",
       "  price_final created_date  \n",
       "0     293,600   2023-01-04  \n",
       "1     339,150   2023-01-04  "
      ]
     },
     "execution_count": 82,
     "metadata": {},
     "output_type": "execute_result"
    }
   ],
   "source": [
    "for i in url:\n",
    "    driver.get('https://brand.naver.com/'+i)\n",
    "    crawling()\n",
    "\n",
    "result = {\"product_no\":product_no, \"product\" : product, \"product_name\" : product_name,\n",
    "                  \"price_original\" : price_original, \"price_discount\" : price_discount,\"price_final\":price_final,\n",
    "                  \"created_date\":created_date}\n",
    "df = pd.DataFrame(result)\n",
    "df"
   ]
  }
 ],
 "metadata": {
  "kernelspec": {
   "display_name": "Python 3",
   "language": "python",
   "name": "python3"
  },
  "language_info": {
   "codemirror_mode": {
    "name": "ipython",
    "version": 3
   },
   "file_extension": ".py",
   "mimetype": "text/x-python",
   "name": "python",
   "nbconvert_exporter": "python",
   "pygments_lexer": "ipython3",
   "version": "3.6.8"
  }
 },
 "nbformat": 4,
 "nbformat_minor": 2
}

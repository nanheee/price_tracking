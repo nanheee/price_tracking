{
 "cells": [
  {
   "cell_type": "markdown",
   "metadata": {},
   "source": [
    "#### 네이버 상품페이지 가격정보(판매가, 할인가, 쿠폰적용가) 크롤링"
   ]
  },
  {
   "cell_type": "code",
   "execution_count": 1,
   "metadata": {},
   "outputs": [],
   "source": [
    "list = '/(스마트스토어 주소)/products/1234567890','/(스마트스토어 주소)/products/1234567891','/(스마트스토어 주소)/products/1234567892','/(스마트스토어 주소)/products/1234567893','/(스마트스토어 주소)/products/1234567894'"
   ]
  },
  {
   "cell_type": "code",
   "execution_count": null,
   "metadata": {},
   "outputs": [],
   "source": [
    "from selenium import webdriver\n",
    "from bs4 import BeautifulSoup\n",
    "import numpy as np \n",
    "import pandas as pd\n",
    "import time\n",
    "import random\n",
    "\n",
    "product = []\n",
    "product_no = []\n",
    "product_name = []\n",
    "product_url = []\n",
    "price_original = []\n",
    "price_discount = []\n",
    "price_final =  []\n",
    "created_date = []\n",
    "\n",
    "def getPrice():\n",
    "    try:\n",
    "        html = driver.page_source\n",
    "        bs = BeautifulSoup(html, 'html.parser')\n",
    "        product_info = bs.find('tbody').find_all('td',{'ABROiEshTD'})\n",
    "        product_no.append(product_info[0].get_text())\n",
    "        product.append(product_info[4].get_text())\n",
    "        product_name.append(bs.find('div',{'class':'_1eddO7u4UC'}).find('h3',{'_22kNQuEXmb _copyable'}).get_text())\n",
    "        price_final.append(bs.find('div',{'class':'_1UNQIwX1sN'}).find('span',{'_1SXfO9k819'}).get_text())        \n",
    "        price = bs.find('div',{'class':'_3my-5FC8OB'}).find_all('span',{'class':'_1LY7DqCnwR'})\n",
    "        if len(price)== 1:\n",
    "            price_original.append(price[0].get_text())\n",
    "            price_discount.append(price[0].get_text()) #즉시할인 없는 경우 판매가로 처리\n",
    "        elif len(price)== 2:\n",
    "            price_original.append(price[0].get_text())\n",
    "            price_discount.append(price[1].get_text())\n",
    "        product_url.append(url)\n",
    "        created_date.append(time.strftime(\"%Y-%m-%d\"))\n",
    "    except AttributeError:\n",
    "        return None\n",
    "\n",
    "driver = webdriver.Chrome('chromedriver.exe')\n",
    "driver.implicitly_wait(3)\n",
    "driver.get('https://nid.naver.com/nidlogin.login?mode=form&url=https%3A%2F%2Fwww.naver.com')\n",
    "#login"
   ]
  }
 ],
 "metadata": {
  "kernelspec": {
   "display_name": "Python 3",
   "language": "python",
   "name": "python3"
  },
  "language_info": {
   "codemirror_mode": {
    "name": "ipython",
    "version": 3
   },
   "file_extension": ".py",
   "mimetype": "text/x-python",
   "name": "python",
   "nbconvert_exporter": "python",
   "pygments_lexer": "ipython3",
   "version": "3.6.8"
  }
 },
 "nbformat": 4,
 "nbformat_minor": 2
}
